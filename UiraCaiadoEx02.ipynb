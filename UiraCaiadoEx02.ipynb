{
 "cells": [
  {
   "cell_type": "markdown",
   "metadata": {},
   "source": [
    "# Derivativos de Ações e Commodities\n",
    "##  Precificação com o Método de Diferenças Finitas\n",
    "<sub>Uirá Caiado. 29 de Junho, 2016<sub>"
   ]
  },
  {
   "cell_type": "markdown",
   "metadata": {},
   "source": [
    "#### Resumo\n",
    "\n",
    "_Neste projeto vou implementar o método de diferenças finitas explícito para precificar diferentes derivativos. Como o preço de opções geralmente é descrito por equações diferenciais de difusão ou parabólicas, o método de diferenças finitas se mostra adequado, uma vez que é utilizado justamente para encontrar soluções numéricas para equações diferencias. Depois e implementar o modelo, vou compará-lo com os resultados obtidos pela solução analítica de cada instrumento._\n",
    "\n",
    "## 1. Introdução\n",
    "\n",
    "Nesta seção dou uma breve descrição sobre o método de diferenças finitas e declaro o problema que será abordado.\n",
    "\n",
    "### 1.1. O Método Utilizado\n",
    "\n",
    "Como colocado por Wilmott, encontrar soluções fechadas para precificação de muitos derivativos pode ser difícil, ou mesmo inviável. Como o preço destes instrumentos frequentemente são descritos por equações diferencias parciais, frequentemente utilizam-se métodos numéricos para encontrar uma solução, como [árvores binomiais](https://en.wikipedia.org/wiki/Binomial_options_pricing_model), simulação de [monte carlo](https://en.wikipedia.org/wiki/Monte_Carlo_method) e diferenças finitas.\n",
    "\n",
    "O método de diferenças finitas encontra o valor de um derivativo calculando-o em todo domínio (factivel) de preços do instrumento base, incluíndo a passagem de tempo até seu vencimento.  Assim, são similares às árvores binomiais. Porém, ao invéz e discretizar os preços do ativo e a passagem do tempo em uma estrutura de árvore, discretiza em um grid.\n",
    "\n",
    "Diferenças finitas também são muitos boas para lidar com problemas com poucas dimensões e equações diferenciais não lineares (o preço e tempo já são duas, e o Wilmott sugere até quatro). Para muitas dimensões, a implementação começa a ficar complicada e pouco eficiente, coisa que o Monte Carlo lida melhor. Porém, se há exercício antecipado e não linearidade, o método de diferenças finitas acaba se mostrando como solução mais viável.\n",
    "\n",
    "### 1.2. O Problema\n",
    "\n",
    "Considerando um ativo-objeto cuja dinâmica do preço satisfaz a seguinte EDE:\n",
    "\n",
    "$$\\frac{\\mathrm{d} S_t}{S_t}=\\mu\\cdot \\mathrm{d}t + \\sigma\\cdot \\mathrm{d}W_{t}$$\n",
    "\n",
    "Deseja-se calcular o preço justo de um derivativo um derivativo com característica europeia cujo payoff é descrito por uma função qualquer $V_T=V(T, S_T)$, onde $T$ é o vencimento do derivativo. $S_T$ é o preço do ativo-objeto em $T$ e é possível negociar qualquer quantidade dele em qualquer instante. Não há custo de transação (corretagem, emolumento, bid-ask spread, etc) e posições vendidas a descoberto no subjacente são permitidas, não havendo custos associados.\n",
    "\n",
    "Pede-se que se implemente o algoritmo de diferenças finitas explícito e se calcule o (a) preço justo, (b) o Delta e (c) o Gamma de cada instrumento abaixo. Os valores encontrados devem ser comparados com o resultado de suas expressões analítica. A simulação deve ser feita para os payoffs abaixo. $K$ é o Strike da opção.\n",
    "- $V(T, S_T)=ln(S_T)$\n",
    "- $V(T, S_T)=(ln(S_T))^2$\n",
    "- $V(T, S_T)=(S_T-K)^2$\n",
    "- $V(T, S_T)=\\mathbf{1}_{S_T > K}$\n",
    "- $V(T, S_T)=max(S_T-K, 0)$"
   ]
  },
  {
   "cell_type": "markdown",
   "metadata": {},
   "source": [
    "##  2. Diferenças Finitas\n",
    "\n",
    "Abaixo, apresentarei os elementos necessários para implementar o método diferenças finitas, sendo eles: a [diferenciação](https://pt.wikipedia.org/wiki/Diferenciação_numérica) das derivadas parciais necessárias usando o Grid; a discretização da condição final para cada derivativo; e suas respectivas condições de contorno (nos limites do grid).\n",
    "\n",
    "### 2.1. Diferenciação no Grid\n",
    "\n",
    "De acordo com Wilmott, o grid utilizado pelo método de diferenças finitas tem passos de tempo e de preço (ou log do preço) geralmente homogênios. Porém, **não há** restrição para a forma do Grid, desde que os ajustes necessários sejam feitos. Como exposto por \n",
    "\n",
    "Considerando que podemos discretizar $t$ como $t=T-k\\delta t$ e do $S$ como $S = i\\delta S$, onde $i$ e $k$ são seus respectivos passos no grid, podemos escrever o valor da opção em cada ponto do grig como sendo:\n",
    "\n",
    "$$V^{k}_{i} = ( i \\delta S, T-k \\delta t )$$\n",
    "\n",
    "Seguindo notas de aula, aplicando Taylor ao preço $V(T, S_T)$ de um derivativo genérico, posso escrever a seguinte equação diferencial parabólica:\n",
    "\n",
    "$$\\frac{\\partial V}{\\partial t} + a(S, t) \\cdot \\frac{\\partial V^2}{\\partial S^2} + b(S, t) \\cdot \\frac{\\partial V}{\\partial S} + c(S, t)\\cdot V = 0 $$\n",
    "\n",
    "Sendo que $\\frac{\\partial V}{\\partial t}$ também é chamado de theta ($\\theta$), $\\frac{\\partial V}{\\partial S}$ de delta ($\\Delta$) e $\\frac{\\partial V^2}{\\partial S^2}$ de gamma ($\\Gamma$). Como demostrado por Wilmott, como a definição da primeira derivada $V$ em relação a $t$ é dado por\n",
    "\n",
    "$$\\frac{\\partial V}{\\partial t} = \\underset{h \\, \\rightarrow \\, 0}{\\lim}\\, \\frac{V(S, t + h) - V(S, t)}{h}$$\n",
    "\n",
    "Então podemos aproximar $\\theta$ como sendo $\\frac{\\partial V}{\\partial t} (S, t) \\approx \\frac{V_{i}^{k} - V_{i}^{k+1} }{\\delta t}$. Note que $i$, que é relacionado ao passo do ativo, ficou fixo. *Também estou ignorando os erros de aproximação, como ignorarei em todas as outras diferenciações*.\n",
    "\n",
    "O mesmo raciocínio pode ser utilizado para aproximar o $\\Delta$. Porém, Wilmott ainda sugere que se utilize a [diferença centrada](http://math.stackexchange.com/questions/888259/can-someone-explain-in-general-what-a-central-difference-formula-is-and-what-it), que é dada por $\\frac{\\partial V}{\\partial S} (S, t) \\approx \\frac{V_{i+1}^{k} - V_{i-1}^{k} }{2 \\delta S}$. A discretização anterior também poderia ser utilizada, mas esta oferece um erro de aproximação menor. O único problema desta abordagem é que preciso saber os valores $S + \\delta S$ e $S - \\delta S$ e nas fronteiras do Grid não terei esta informação. Por tanto, nestes casos utilizarei a discretrização utilizando apenas um dos lados.\n",
    "\n",
    "Por fim, para achar o $\\gamma$, Wilmott subtrai o delta forward do delta backward e divide o resultado por $\\delta S$, chegando na aproximação  $\\frac{\\partial V^2}{\\partial S^2} (S, t) \\approx \\frac{V_{i+1}^{k} - 2 V_{i}^{k} + V_{i-1}^{k} }{\\delta S^2}$. Como demonstrado em notas de aula, todos estes resultados podem ser checados aplicando a expansão de Taylor.\n",
    "\n",
    "### 2.2. Condição Terminal e Payoffs\n",
    "\n",
    "O valor da opção no vencimento é simplemente seu payoff. Assim, não é necessário resolver nada para $T$, apenas para $S$. Usando a notação de diferenças finitas, os payoffs desejados ficam sendo da forma:\n",
    "\n",
    "- $V_{i}^{0}=ln(i\\delta S)$\n",
    "- $V_{i}^{0}=(ln(i\\delta S))^2$\n",
    "- $V_{i}^{0}=(i\\delta S-K)^2$\n",
    "- $V_{i}^{0}=\\mathbf{1}_{i\\delta S > K}$\n",
    "- $V_{i}^{0}=max(i\\delta S-K, 0)$\n",
    "\n",
    "Como o Wilmott explica, o método de diferenças finitas começa de trás para frente, será destes valores que a iteração começará, como se estivéssemos calculando o preço de um derivativo por árvores binomiais, também de trás para frente.\n",
    "\n",
    "### 2.3. Condições de Contorno\n",
    "\n",
    "Quando estivermos percorrendo o Grid, necessitaremos definir o preço do derivativo em seus extremos, quando $S=0$ e $S=I \\delta S$, onde $I$ é o ponto mais alto do Grid. Esta condição depende do instrumento que está sendo precificado. Para **todos** dos contratos, utilizaremos a seguinte condição para quando $S=0$:\n",
    "\n",
    "$$V^{k}_{0} = (1 - r \\delta t)V^{k-1}_{0}$$\n",
    "\n",
    "Para a condição de contorno superior, utilizaremos para a **maioria dos contratos**:\n",
    "\n",
    "$$V^{k}_{I} = 2V^{k}_{I-1} - V^{k}_{I-2}$$\n",
    "\n",
    "Esta condição é adequada pois, a medida que $S \\rightarrow \\infty$, o $\\Gamma$ da maioria dos contratos tende a zero. Porém, isso não é verdade para o contrato cujo payoff é descrito por $V_{i}^{0}=(i\\delta S-K)^2$. Diferenciando novamente o [delta](https://nbviewer.jupyter.org/github/ucaiado/Replicating_Strategy/blob/master/UiraCaiadoEx01.ipynb) deste contrato, chegamos que o gamma será dado por $2 \\cdot e^{(r + \\sigma^2)(T-t)}$. Neste caso,\n",
    "partindo da equação discretizada do $\\Gamma$ e resolvendo para $V^{k}_{I}$, tenho que:\n",
    "\n",
    "\\begin{equation}\n",
    "\\begin{aligned}\n",
    "\\Gamma &= \\frac{V_{I+1}^{k} - 2 V_{I}^{k} + V_{I-1}^{k} }{\\delta S^2}\\\\\n",
    "2 \\cdot e^{(r + \\sigma^2)(\\delta t)} &= \\frac{V_{I+1}^{k} - 2 V_{I}^{k} + V_{I-1}^{k} }{\\delta S^2}\\\\\n",
    "V_{I}^{k} &= 2 \\delta S^2 e^{(r + \\sigma^2)(\\delta t)} + 2V_{I-1}^{k} - V_{I-2}^{k}\\\\\n",
    "V_{I}^{k} &\\approx 2 \\delta S^2 + 2V_{I-1}^{k} - V_{I-2}^{k}\\\\\n",
    "\\end{aligned}\n",
    "\\end{equation}\n",
    "\n"
   ]
  },
  {
   "cell_type": "markdown",
   "metadata": {},
   "source": [
    "## 3. Implementando o Modelo\n",
    "\n",
    "Nesta seção vou decsrever o método de diferenças finitas explícito e implementar os códigos necessários.\n",
    "\n",
    "### 3.1. Método Explícito\n",
    "\n",
    "Seguindo notas de aula, substituindo as diferenciações encontradas na equação parabólica mencionada anteriormente e reescrevendo os outros termos com a notação de diferenças finitas, temos que:\n",
    "\n",
    "\\begin{equation}\n",
    "\\begin{aligned}\n",
    "\\frac{\\partial V}{\\partial t} + a(S, t) \\cdot \\frac{\\partial V^2}{\\partial S^2} + b(S, t) \\cdot \\frac{\\partial V}{\\partial S} + c(S, t)\\cdot V &= 0 \\\\\n",
    "\\frac{V_{i}^{k} - V_{i}^{k+1} }{\\delta t} + a_{i}^{k} \\cdot \\frac{V_{i+1}^{k} - 2 V_{i}^{k} + V_{i-1}^{k} }{\\delta S^2} + \\\\b_{i}^{k} \\cdot \\frac{V_{i+1}^{k} - V_{i-1}^{k} }{2 \\delta S} + c_{i}^{k}\\cdot V_{i}^{k} &= 0\n",
    "\\end{aligned}\n",
    "\\end{equation}\n",
    "\n",
    "Rearranjando equação acima para isolar $V_{i}^{k+1}$ e renomeando alguns termos, ficamos com:\n",
    "\n",
    "$$V_{i}^{k+1} = A_{i}^{k}V_{i-1}^{k} + \\left( 1 + B_{i}^{k} \\right)V_{i}^{k} + C_{i}^{k}V_{i+1}^{k}$$\n",
    "\n",
    "Onde:\n",
    "\n",
    "\\begin{equation}\n",
    "\\begin{aligned}\n",
    "A_{i}^{k} &= \\nu_1 a_{i}^{k} - 0.5\\nu_2 b_{i}^{k} \\\\\n",
    "B_{i}^{k} &= -2\\nu_1 a_{i}^{k} - \\delta t c_{i}^{k} \\\\\n",
    "C_{i}^{k} &= \\nu_1 a_{i}^{k} + 0.5\\nu_2 b_{i}^{k}\n",
    "\\end{aligned}\n",
    "\\end{equation}\n",
    "\n",
    "Sendo que $\\nu_1=\\frac{\\delta t}{\\delta S ^2}$ e $\\nu_2=\\frac{\\delta t}{\\delta S}$. A equação acima está definida apenas entre $i=1, ..., I-1$. OS pontos restantes necessários para discretização vem das condições de contorno. Como nós conhecemos o valor terminal em $V_{i}^{0}$, podemos calcular o valor de $V_{i}^{1}$ e assim por diante. Como o valor do instrumento em $k+1$ só depende dos valores dele em $k$, chamamos este método de **método explícito**.\n",
    "\n",
    "Por último, para que a solução deste método seja estável, é necessário que satisfaça $\\delta t \\, \\leqslant \\frac{\\delta S^2}{2\\sigma^2 S^2}$ e $\\delta S \\leqslant \\frac{2a}{|b|}$."
   ]
  },
  {
   "cell_type": "markdown",
   "metadata": {},
   "source": [
    "### 3.2. Criando o Grid\n",
    "\n",
    "Primeiro, vou definir as classes para a criação do Grid. Como quero acessar os valores posteriormente, vou manter todos em uma estrutura, ainda que este não seja o método mais eficiente aqui."
   ]
  },
  {
   "cell_type": "code",
   "execution_count": 75,
   "metadata": {
    "collapsed": false
   },
   "outputs": [],
   "source": [
    "import numpy as np\n",
    "\n",
    "class GridNode(object):\n",
    "    '''\n",
    "    A representation of a Node of a Grid\n",
    "    '''\n",
    "    def __init__(self, k, i):\n",
    "        '''\n",
    "        Initialize a GridNode object\n",
    "        :param k: integer. the time index\n",
    "        :param i: integer. the asset index\n",
    "        '''\n",
    "        # inicia variaveis de controle\n",
    "        self.k = k\n",
    "        self.i = i\n",
    "        self.node_idx = '{:.0f},{:.0f}'.format(k, i)\n",
    "        # inicia variaveis para precificacao\n",
    "        self.f_asset_value = 0\n",
    "        self.f_option_value = 0\n",
    "        self.f_delta = 0\n",
    "        self.f_gamma = 0\n",
    "        self.f_theta = 0\n",
    "    \n",
    "    def __str__(self):\n",
    "        '''\n",
    "        Return node_idx\n",
    "        '''\n",
    "        return self.node_idx\n",
    "\n",
    "    def __repr__(self):\n",
    "        '''\n",
    "        Return the node_idx\n",
    "        '''\n",
    "        return self.node_idx\n",
    "\n",
    "    def __eq__(self, other):\n",
    "        '''\n",
    "        Return if a node has different node_idx from the other\n",
    "        :param other: node object. Node to be compared\n",
    "        '''\n",
    "        return self.node_idx == other.node_idx\n",
    "\n",
    "    def __ne__(self, other):\n",
    "        '''\n",
    "        Return if a node has the same node_idx from the other\n",
    "        :param other: node object. Node to be compared\n",
    "        '''\n",
    "        return not self.__eq__(other)\n",
    "\n",
    "    def __hash__(self):\n",
    "        '''\n",
    "        Allow the node object be used as a key in a hash\n",
    "        table\n",
    "        '''\n",
    "        return self.node_idx.__hash__()\n",
    "\n",
    "        \n",
    "class Grid(object):\n",
    "    '''\n",
    "    A general representation of a Grid to be used by Derivative classes in the\n",
    "    discretization of their domains\n",
    "    '''\n",
    "    def __init__(self, f_vol, f_value, f_time, i_nas):\n",
    "        '''\n",
    "        Initialize a Grid object. Save all parameters as attributes\n",
    "        :param f_vol: float. Volatility of the underlying instrument\n",
    "        :param f_val: float. The reference value to calculate the grid length \n",
    "        :param f_time: float. time to be used in the grid\n",
    "        :param i_nas: integer. Number of asset steps\n",
    "        '''\n",
    "        # inicia variaveis e usa vol para garantir estabilidade\n",
    "        self.f_nas = 1. * i_nas\n",
    "        # 'infinito' eh duas vezes o valor\n",
    "        self.dS = 2 * f_value / self.f_nas\n",
    "        # como o wilmott garantiu estabilidade\n",
    "        self.dt = 0.9 / f_vol**2. / self.f_nas**2.\n",
    "        self.i_nts = int(f_time/self.dt) + 1\n",
    "        self.dt = f_time / (self.i_nts * 1.)\n",
    "        # inicia grid. O ponto do tempo inicial eh o final, na verdade\n",
    "        self.grid = {}\n",
    "        for k in xrange(int(self.i_nts)):\n",
    "            for i in xrange(int(self.f_nas)):\n",
    "                node = GridNode(k, i)\n",
    "                self.grid[node] = node\n",
    "    \n",
    "    def __getitem__(self, k, i):\n",
    "        '''\n",
    "        Allow direct access to the nodes of the object\n",
    "        :param k: integer. the time index\n",
    "        :param i: integer. the asset index\n",
    "        '''\n",
    "        node_idx = GridNode(k, i)\n",
    "        return self.grid[node_idx]\n",
    "    \n",
    "    def __str__(self):\n",
    "        '''\n",
    "        A string representation of the node\n",
    "        '''\n",
    "        s_aux = ''\n",
    "        for k in xrange(int(self.i_nts)):\n",
    "            for i in xrange(int(self.f_nas)):\n",
    "                valid_node = self.grid[GridNode(k, i)]\n",
    "                s_aux += '{:7}'.format(valid_node)\n",
    "            s_aux += '\\n'\n",
    "        return s_aux"
   ]
  },
  {
   "cell_type": "code",
   "execution_count": 67,
   "metadata": {
    "collapsed": true
   },
   "outputs": [],
   "source": [
    "x = Grid(f_vol=0.2,\n",
    "         f_value=100.,\n",
    "         f_time=1.,\n",
    "         i_nas=20)"
   ]
  },
  {
   "cell_type": "code",
   "execution_count": 72,
   "metadata": {
    "collapsed": false
   },
   "outputs": [
    {
     "data": {
      "text/plain": [
       "0.056249999999999994"
      ]
     },
     "execution_count": 72,
     "metadata": {},
     "output_type": "execute_result"
    }
   ],
   "source": [
    "0.9/(0.2**2)/(20.**2)"
   ]
  },
  {
   "cell_type": "code",
   "execution_count": 74,
   "metadata": {
    "collapsed": false
   },
   "outputs": [
    {
     "data": {
      "text/plain": [
       "18"
      ]
     },
     "execution_count": 74,
     "metadata": {},
     "output_type": "execute_result"
    }
   ],
   "source": [
    "int(1./0.056249999999999994) + 1"
   ]
  },
  {
   "cell_type": "code",
   "execution_count": null,
   "metadata": {
    "collapsed": true
   },
   "outputs": [],
   "source": []
  },
  {
   "cell_type": "code",
   "execution_count": 68,
   "metadata": {
    "collapsed": false
   },
   "outputs": [
    {
     "data": {
      "text/plain": [
       "17"
      ]
     },
     "execution_count": 68,
     "metadata": {},
     "output_type": "execute_result"
    }
   ],
   "source": [
    "x.i_nts"
   ]
  },
  {
   "cell_type": "code",
   "execution_count": 65,
   "metadata": {
    "collapsed": false
   },
   "outputs": [
    {
     "name": "stdout",
     "output_type": "stream",
     "text": [
      "0,0    0,1    0,2    0,3    0,4    0,5    0,6    0,7    0,8    0,9    0,10   0,11   0,12   0,13   0,14   0,15   0,16   0,17   0,18   0,19   \n",
      "1,0    1,1    1,2    1,3    1,4    1,5    1,6    1,7    1,8    1,9    1,10   1,11   1,12   1,13   1,14   1,15   1,16   1,17   1,18   1,19   \n",
      "2,0    2,1    2,2    2,3    2,4    2,5    2,6    2,7    2,8    2,9    2,10   2,11   2,12   2,13   2,14   2,15   2,16   2,17   2,18   2,19   \n",
      "3,0    3,1    3,2    3,3    3,4    3,5    3,6    3,7    3,8    3,9    3,10   3,11   3,12   3,13   3,14   3,15   3,16   3,17   3,18   3,19   \n",
      "4,0    4,1    4,2    4,3    4,4    4,5    4,6    4,7    4,8    4,9    4,10   4,11   4,12   4,13   4,14   4,15   4,16   4,17   4,18   4,19   \n",
      "5,0    5,1    5,2    5,3    5,4    5,5    5,6    5,7    5,8    5,9    5,10   5,11   5,12   5,13   5,14   5,15   5,16   5,17   5,18   5,19   \n",
      "6,0    6,1    6,2    6,3    6,4    6,5    6,6    6,7    6,8    6,9    6,10   6,11   6,12   6,13   6,14   6,15   6,16   6,17   6,18   6,19   \n",
      "7,0    7,1    7,2    7,3    7,4    7,5    7,6    7,7    7,8    7,9    7,10   7,11   7,12   7,13   7,14   7,15   7,16   7,17   7,18   7,19   \n",
      "8,0    8,1    8,2    8,3    8,4    8,5    8,6    8,7    8,8    8,9    8,10   8,11   8,12   8,13   8,14   8,15   8,16   8,17   8,18   8,19   \n",
      "9,0    9,1    9,2    9,3    9,4    9,5    9,6    9,7    9,8    9,9    9,10   9,11   9,12   9,13   9,14   9,15   9,16   9,17   9,18   9,19   \n",
      "10,0   10,1   10,2   10,3   10,4   10,5   10,6   10,7   10,8   10,9   10,10  10,11  10,12  10,13  10,14  10,15  10,16  10,17  10,18  10,19  \n",
      "11,0   11,1   11,2   11,3   11,4   11,5   11,6   11,7   11,8   11,9   11,10  11,11  11,12  11,13  11,14  11,15  11,16  11,17  11,18  11,19  \n",
      "12,0   12,1   12,2   12,3   12,4   12,5   12,6   12,7   12,8   12,9   12,10  12,11  12,12  12,13  12,14  12,15  12,16  12,17  12,18  12,19  \n",
      "13,0   13,1   13,2   13,3   13,4   13,5   13,6   13,7   13,8   13,9   13,10  13,11  13,12  13,13  13,14  13,15  13,16  13,17  13,18  13,19  \n",
      "14,0   14,1   14,2   14,3   14,4   14,5   14,6   14,7   14,8   14,9   14,10  14,11  14,12  14,13  14,14  14,15  14,16  14,17  14,18  14,19  \n",
      "15,0   15,1   15,2   15,3   15,4   15,5   15,6   15,7   15,8   15,9   15,10  15,11  15,12  15,13  15,14  15,15  15,16  15,17  15,18  15,19  \n",
      "16,0   16,1   16,2   16,3   16,4   16,5   16,6   16,7   16,8   16,9   16,10  16,11  16,12  16,13  16,14  16,15  16,16  16,17  16,18  16,19  \n",
      "\n"
     ]
    }
   ],
   "source": [
    "x = Grid(f_vol=0.2,\n",
    "         f_value=100.,\n",
    "         f_time=1.,\n",
    "         i_nas=20)\n",
    "print x"
   ]
  },
  {
   "cell_type": "code",
   "execution_count": 53,
   "metadata": {
    "collapsed": false
   },
   "outputs": [
    {
     "name": "stdout",
     "output_type": "stream",
     "text": [
      "1 loop, best of 3: 4.58 s per loop\n"
     ]
    }
   ],
   "source": [
    "%timeit x = Grid(f_vol=0.1, f_value=10., f_time=100., i_nas=100)"
   ]
  },
  {
   "cell_type": "markdown",
   "metadata": {},
   "source": [
    "Como comentei, não é uma estrtutura eficiente. Demorou quase 5 segundos para criar uma estrtutura de 10.000 nós. Porém acredito que isso me ajudará adiante."
   ]
  },
  {
   "cell_type": "markdown",
   "metadata": {},
   "source": [
    "### 3.2. Precificando os instrumentos\n",
    "\n",
    "Agora preciso precificar os instrumentos. Mas antes vou terminar de implementar o método de diferenças finitas dentro de uma classe básica que será usada para implementar cada instrumento. Já começarei testando para uma Call Européia."
   ]
  },
  {
   "cell_type": "code",
   "execution_count": 55,
   "metadata": {
    "collapsed": false
   },
   "outputs": [],
   "source": [
    "class Derivative(object):\n",
    "    '''\n",
    "    A general representation of a Derivative contract.\n",
    "    '''\n",
    "    def __init__(self, f_St, f_sigma, f_time, f_r, i_nas, f_K = None):\n",
    "        '''\n",
    "        Initialize a Derivative object. Save all parameters as attributes\n",
    "        :param f_St: float. The price of the underline asset\n",
    "        :param f_sigma: float. A non negative underline volatility\n",
    "        :param f_time: float. The time remain until the expiration\n",
    "        :param f_r: float. The free intereset rate\n",
    "        :param i_nas: integer. Number of asset steps\n",
    "        :*param f_K: float. The strike, if applyable\n",
    "        '''\n",
    "        # inicia variaveis\n",
    "        self.s_name = \"General\"\n",
    "        self.f_St = f_St\n",
    "        self.f_K = f_K\n",
    "        self.f_r = f_r\n",
    "        self.f_sigma = f_sigma\n",
    "        self.f_time = f_time\n",
    "        # inica grid\n",
    "        self.grid = Grid(f_vol=f_sigma,\n",
    "                         f_value=f_St,\n",
    "                         f_time=f_time,\n",
    "                         i_nas=i_nas)\n",
    "\n",
    "    def set_final_condition(self):\n",
    "        '''\n",
    "        Set up the final condition in the grid, the payoff\n",
    "        '''\n",
    "        # apenas o valor final do ativo eh necessario aqui\n",
    "        for i in xrange(int(self.grid.f_nas)):\n",
    "            f_S = i * 1. * self.dS \n",
    "            self.grid[0, i].f_asset_value = f_S\n",
    "            self.grid[0, i].f_option_value = self._get_payoff(f_S)\n",
    "\n",
    "    def go_backwards(self):\n",
    "        '''\n",
    "        work backwards in time to calculate the option value\n",
    "        '''\n",
    "        # comeco o loop depois do primeiro passo de cada dimensao\n",
    "        dS = self.grid.dS\n",
    "        dt = sef.grid.dt\n",
    "        for k in xrange(1, int(self.grid.i_nts)):\n",
    "            for i in xrange(1, int(self.grid.f_nas)-1):\n",
    "                # calcula valores auxiliares\n",
    "                f_S = i * 1. * self.dS \n",
    "                self.grid[k, i].f_asset_value = f_S\n",
    "                f_V_ip1_km1 = self.grid[k-1, i+1].f_option_value\n",
    "                f_V_im1_km1 = self.grid[k-1, i-1].f_option_value\n",
    "                f_V_i_km1 = self.grid[k-1, i].f_option_value\n",
    "                # calcula gregas por diferenca central\n",
    "                f_delta = (f_V_ip1_km1 - f_V_im1_km1) / 2. / dS\n",
    "                f_gamma = (f_V_ip1_km1 - 2 * f_V_i_km1 + f_V_im1_km1) / dS / dS\n",
    "                # calcula theta \n",
    "                f_theta = -0.5 * Vol ^ 2 * S(i) ^ 2 * Gamma\n",
    "                # guarda as gregas e novo preco\n",
    "                self.grid[k, i].f_delta = f_delta\n",
    "                self.grid[k, i].f_gamma = f_gamma\n",
    "                self.grid[k, i].f_theta = f_theta\n",
    "                f_option_value = f_V_i_km1 - dt * f_theta\n",
    "            # aplica condicoes de contorno\n",
    "            self._apply_boundary_conditions(k)\n",
    "            # checa exercicio antecipado\n",
    "            f_aux =  self._early_exercise(f_option_value, f_S)\n",
    "            self.grid[k, i].f_option_value = f_aux\n",
    "    \n",
    "    def _early_exercise(self, f_value, f_S): \n",
    "        '''\n",
    "        Modify the derivative value if it is subject to early exercise\n",
    "        '''\n",
    "        return f_value \n",
    "    \n",
    "    def _apply_boundary_conditions(self, k):\n",
    "        '''\n",
    "        Apply boundary conditions\n",
    "        '''\n",
    "        # para S = 0\n",
    "        dt = self.grid.dt\n",
    "        i_nas = int(self.grid.f_nas)\n",
    "        self.grid[0, k] = self.grid[0, k - 1] * (1 - self.fr * dt)\n",
    "        # para S=inf\n",
    "        self.grid[i_nas, k] = 2 * self.grid[i_nas-1, k] * self.grid[i_nas-2, k]\n",
    "    \n",
    "    def _get_payoff(self, f_asset_price):\n",
    "        '''\n",
    "        Get the payoff of the contract\n",
    "        :param f_asset_price: float. The base asset price\n",
    "        '''\n",
    "        raise NotImplementedError()\n",
    "    \n",
    "    def __str__(self):\n",
    "        '''\n",
    "        Return a string describing the option\n",
    "        '''\n",
    "        s = u\"Um(a) {} baseado em um subjacente com preco {:.2f}\"\n",
    "        s += u\", {:.1f}% de volatilidade, juros de {:.1f}%\"\n",
    "        if self.f_K:\n",
    "            s += u\", com Strike de {}\"\n",
    "            l_val = [self.s_name, self.f_St, self.f_sigma *100,\n",
    "                     self.f_r*100, self.f_K, self.f_time,\n",
    "                     self.f_price, self.f_delta]\n",
    "        else:\n",
    "            l_val = [self.s_name, self.f_St, self.f_sigma *100,\n",
    "                     self.f_r*100, self.f_time, self.f_price,\n",
    "                     self.f_delta]\n",
    "        s += u\" e vencimento em {:.2f} anos tem o preco de R$ {:.2f} \"\n",
    "        s += u\"e Delta de {:.2f}\"\n",
    "        s = s.format(*l_val)\n",
    "        return s"
   ]
  },
  {
   "cell_type": "code",
   "execution_count": null,
   "metadata": {
    "collapsed": true
   },
   "outputs": [],
   "source": []
  },
  {
   "cell_type": "code",
   "execution_count": null,
   "metadata": {
    "collapsed": true
   },
   "outputs": [],
   "source": []
  },
  {
   "cell_type": "code",
   "execution_count": null,
   "metadata": {
    "collapsed": true
   },
   "outputs": [],
   "source": []
  },
  {
   "cell_type": "code",
   "execution_count": null,
   "metadata": {
    "collapsed": true
   },
   "outputs": [],
   "source": []
  },
  {
   "cell_type": "code",
   "execution_count": null,
   "metadata": {
    "collapsed": true
   },
   "outputs": [],
   "source": []
  },
  {
   "cell_type": "code",
   "execution_count": null,
   "metadata": {
    "collapsed": true
   },
   "outputs": [],
   "source": []
  },
  {
   "cell_type": "code",
   "execution_count": null,
   "metadata": {
    "collapsed": true
   },
   "outputs": [],
   "source": []
  },
  {
   "cell_type": "code",
   "execution_count": null,
   "metadata": {
    "collapsed": true
   },
   "outputs": [],
   "source": []
  },
  {
   "cell_type": "code",
   "execution_count": null,
   "metadata": {
    "collapsed": true
   },
   "outputs": [],
   "source": []
  },
  {
   "cell_type": "code",
   "execution_count": null,
   "metadata": {
    "collapsed": true
   },
   "outputs": [],
   "source": []
  },
  {
   "cell_type": "code",
   "execution_count": null,
   "metadata": {
    "collapsed": true
   },
   "outputs": [],
   "source": []
  },
  {
   "cell_type": "code",
   "execution_count": null,
   "metadata": {
    "collapsed": true
   },
   "outputs": [],
   "source": [
    "class LogContract(Derivative):\n",
    "    '''\n",
    "    A representation of a Log Contract\n",
    "    '''\n",
    "    def __init__(self, f_St, f_sigma, f_time, f_r, f_K=None):\n",
    "        '''\n",
    "        Initialize a LogContract object. Save all parameters as attributes\n",
    "        :param f_St: float. The price of the underline asset\n",
    "        :param f_sigma: float. A non negative underline volatility\n",
    "        :param f_time: float. The time remain until the expiration\n",
    "        :param f_r: float. The free intereset rate\n",
    "        :*param f_K: float. The strike, if applyable\n",
    "        '''\n",
    "        # inicia variaveis da Derivativo\n",
    "        super(LogContract, self).__init__(f_St=f_St,\n",
    "                                          f_sigma=f_sigma,\n",
    "                                          f_time=f_time,\n",
    "                                          f_r=f_r,\n",
    "                                          f_K=None)\n",
    "        self.s_name = \"Contrato Log\"\n",
    "    def _set_price(self):\n",
    "        '''\n",
    "        Return the price of the contract\n",
    "        '''\n",
    "        exp_r_t = np.exp(-1*self.f_r*self.f_time)\n",
    "        ln_S = np.log(self.f_St)\n",
    "        r_var_t = (self.f_r - (self.f_sigma**2)/2) * self.f_time\n",
    "        ln_S_r_var_t = ln_S + r_var_t\n",
    "        self.f_price = exp_r_t * ln_S_r_var_t\n",
    "\n",
    "    def _set_delta(self):\n",
    "        '''\n",
    "        Return the delta of the contract\n",
    "        '''\n",
    "        exp_r_t = np.exp(-1*self.f_r*self.f_time)\n",
    "        \n",
    "        self.f_delta = exp_r_t / self.f_St\n",
    "        \n",
    "    def _set_gamma(self):\n",
    "        '''\n",
    "        Set the gamma to the contract\n",
    "        '''\n",
    "        self.f_delta = exp_r_t / self.f_St"
   ]
  },
  {
   "cell_type": "code",
   "execution_count": null,
   "metadata": {
    "collapsed": true
   },
   "outputs": [],
   "source": []
  },
  {
   "cell_type": "code",
   "execution_count": null,
   "metadata": {
    "collapsed": true
   },
   "outputs": [],
   "source": []
  },
  {
   "cell_type": "code",
   "execution_count": null,
   "metadata": {
    "collapsed": true
   },
   "outputs": [],
   "source": []
  },
  {
   "cell_type": "code",
   "execution_count": null,
   "metadata": {
    "collapsed": true
   },
   "outputs": [],
   "source": []
  },
  {
   "cell_type": "markdown",
   "metadata": {},
   "source": [
    "### 3.3. Convergência do método explícito\n",
    "\n"
   ]
  },
  {
   "cell_type": "code",
   "execution_count": null,
   "metadata": {
    "collapsed": true
   },
   "outputs": [],
   "source": []
  },
  {
   "cell_type": "code",
   "execution_count": null,
   "metadata": {
    "collapsed": true
   },
   "outputs": [],
   "source": []
  },
  {
   "cell_type": "code",
   "execution_count": null,
   "metadata": {
    "collapsed": true
   },
   "outputs": [],
   "source": []
  },
  {
   "cell_type": "code",
   "execution_count": null,
   "metadata": {
    "collapsed": true
   },
   "outputs": [],
   "source": []
  },
  {
   "cell_type": "code",
   "execution_count": null,
   "metadata": {
    "collapsed": true
   },
   "outputs": [],
   "source": []
  },
  {
   "cell_type": "markdown",
   "metadata": {},
   "source": [
    "## 4. Precificando Instrumentos\n",
    "\n",
    "Nesta seção vou precificar alguns instrumentos e comparar com suas soluçòes analíticas.\n",
    "\n",
    "### 4.1. Bla"
   ]
  },
  {
   "cell_type": "code",
   "execution_count": null,
   "metadata": {
    "collapsed": true
   },
   "outputs": [],
   "source": []
  },
  {
   "cell_type": "code",
   "execution_count": null,
   "metadata": {
    "collapsed": true
   },
   "outputs": [],
   "source": []
  },
  {
   "cell_type": "markdown",
   "metadata": {},
   "source": [
    "### 4.3. Usando Volatilidade Incerta"
   ]
  },
  {
   "cell_type": "code",
   "execution_count": null,
   "metadata": {
    "collapsed": true
   },
   "outputs": [],
   "source": []
  },
  {
   "cell_type": "code",
   "execution_count": null,
   "metadata": {
    "collapsed": true
   },
   "outputs": [],
   "source": []
  },
  {
   "cell_type": "code",
   "execution_count": null,
   "metadata": {
    "collapsed": true
   },
   "outputs": [],
   "source": []
  },
  {
   "cell_type": "markdown",
   "metadata": {},
   "source": [
    "## 5. Conclusão\n",
    "\n",
    "bla bla bla\n",
    "\n",
    "\n",
    "\n",
    "## 6. Últimas Considerações\n",
    "\n",
    "Quando ..."
   ]
  },
  {
   "cell_type": "markdown",
   "metadata": {},
   "source": [
    "_Style notebook and change matplotlib defaults_"
   ]
  },
  {
   "cell_type": "code",
   "execution_count": 3,
   "metadata": {
    "collapsed": false
   },
   "outputs": [
    {
     "data": {
      "text/html": [
       "<style>\n",
       "    @font-face {\n",
       "        font-family: \"Computer Modern\";\n",
       "        src: url('http://9dbb143991406a7c655e-aa5fcb0a5a4ec34cff238a2d56ca4144.r56.cf5.rackcdn.com/cmunss.otf');\n",
       "    }\n",
       "    @font-face {\n",
       "        font-family: \"Computer Modern\";\n",
       "        font-weight: bold;\n",
       "        src: url('http://9dbb143991406a7c655e-aa5fcb0a5a4ec34cff238a2d56ca4144.r56.cf5.rackcdn.com/cmunsx.otf');\n",
       "    }\n",
       "    @font-face {\n",
       "        font-family: \"Computer Modern\";\n",
       "        font-style: oblique;\n",
       "        src: url('http://9dbb143991406a7c655e-aa5fcb0a5a4ec34cff238a2d56ca4144.r56.cf5.rackcdn.com/cmunsi.otf');\n",
       "    }\n",
       "    @font-face {\n",
       "        font-family: \"Computer Modern\";\n",
       "        font-weight: bold;\n",
       "        font-style: oblique;\n",
       "        src: url('http://9dbb143991406a7c655e-aa5fcb0a5a4ec34cff238a2d56ca4144.r56.cf5.rackcdn.com/cmunso.otf');\n",
       "    }\n",
       "    div.cell{\n",
       "        width:800px;\n",
       "        margin-left:16% !important;\n",
       "        margin-right:auto;\n",
       "    }\n",
       "    h1 {\n",
       "        font-family: Helvetica, serif;\n",
       "    }\n",
       "    h4{\n",
       "        margin-top:12px;\n",
       "        margin-bottom: 3px;\n",
       "       }\n",
       "    div.text_cell_render{\n",
       "        font-family: Computer Modern, \"Helvetica Neue\", Arial, Helvetica, Geneva, sans-serif;\n",
       "        line-height: 145%;\n",
       "        font-size: 130%;\n",
       "        width:800px;\n",
       "        margin-left:auto;\n",
       "        margin-right:auto;\n",
       "    }\n",
       "    .CodeMirror{\n",
       "            font-family: \"Source Code Pro\", source-code-pro,Consolas, monospace;\n",
       "    }\n",
       "    .prompt{\n",
       "        display: None;\n",
       "    }\n",
       "    .text_cell_render h5 {\n",
       "        font-weight: 300;\n",
       "        font-size: 22pt;\n",
       "        color: #4057A1;\n",
       "        font-style: italic;\n",
       "        margin-bottom: .5em;\n",
       "        margin-top: 0.5em;\n",
       "        display: block;\n",
       "    }\n",
       "\n",
       "    .warning{\n",
       "        color: rgb( 240, 20, 20 )\n",
       "        }\n",
       "</style>\n",
       "\n",
       "\n",
       "\n",
       "<style>\n",
       "    table {\n",
       "        overflow:hidden;\n",
       "        font-family: Computer Modern, \"Helvetica Neue\", Arial, Helvetica, Geneva, sans-serif;\n",
       "        font-size: 12px;\n",
       "        margin: 10px;\n",
       "        width: 480px;\n",
       "        text-align: left;\n",
       "        border-collapse: collapse;\n",
       "        border: 1px solid #d3d3d3;\n",
       "        -moz-border-radius:5px; FF1+;\n",
       "        -webkit-border-radius:5px; Saf3-4;\n",
       "        border-radius:5px;\n",
       "        -moz-box-shadow: 0 0 4px rgba(0, 0, 0, 0.01);\n",
       "    }\n",
       "    th\n",
       "    {\n",
       "        padding: 12px 17px 12px 17px;\n",
       "        font-weight: normal;\n",
       "        font-size: 14px;\n",
       "        border-bottom: 1px dashed #69c;\n",
       "    }\n",
       "\n",
       "    td\n",
       "    {\n",
       "        padding: 7px 17px 7px 17px;\n",
       "\n",
       "    }\n",
       "\n",
       "    tbody tr:hover th\n",
       "    {\n",
       "\n",
       "        background:  #E9E9E9;\n",
       "    }\n",
       "\n",
       "    tbody tr:hover td\n",
       "    {\n",
       "\n",
       "        background:  #E9E9E9;\n",
       "    }\n",
       "\n",
       "</style>\n",
       "\n",
       "<script>\n",
       "    MathJax.Hub.Config({\n",
       "                        TeX: {\n",
       "                           extensions: [\"AMSmath.js\"]\n",
       "                           },\n",
       "                tex2jax: {\n",
       "                    inlineMath: [ ['$','$'], [\"\\\\(\",\"\\\\)\"] ],\n",
       "                    displayMath: [ ['$$','$$'], [\"\\\\[\",\"\\\\]\"] ]\n",
       "                },\n",
       "                displayAlign: 'center', // Change this to 'center' to center equations.\n",
       "                \"HTML-CSS\": {\n",
       "                    styles: {'.MathJax_Display': {\"margin\": 4}}\n",
       "                }\n",
       "        });\n",
       "</script>\n"
      ],
      "text/plain": [
       "<IPython.core.display.HTML object>"
      ]
     },
     "execution_count": 3,
     "metadata": {},
     "output_type": "execute_result"
    }
   ],
   "source": [
    "#loading style sheet\n",
    "from IPython.core.display import HTML\n",
    "HTML(open('ipython_style.css').read())"
   ]
  },
  {
   "cell_type": "code",
   "execution_count": 4,
   "metadata": {
    "collapsed": true
   },
   "outputs": [],
   "source": [
    "#changing matplotlib defaults\n",
    "%matplotlib inline\n",
    "import seaborn as sns\n",
    "sns.set_palette(\"deep\", desat=.6)\n",
    "sns.set_context(rc={\"figure.figsize\": (8, 4)})\n",
    "sns.set_style(\"whitegrid\")\n",
    "sns.set_palette(sns.color_palette(\"PuBuGn_d\", 10))"
   ]
  },
  {
   "cell_type": "code",
   "execution_count": null,
   "metadata": {
    "collapsed": true
   },
   "outputs": [],
   "source": []
  }
 ],
 "metadata": {
  "kernelspec": {
   "display_name": "Python 2",
   "language": "python",
   "name": "python2"
  },
  "language_info": {
   "codemirror_mode": {
    "name": "ipython",
    "version": 2
   },
   "file_extension": ".py",
   "mimetype": "text/x-python",
   "name": "python",
   "nbconvert_exporter": "python",
   "pygments_lexer": "ipython2",
   "version": "2.7.11"
  }
 },
 "nbformat": 4,
 "nbformat_minor": 0
}
