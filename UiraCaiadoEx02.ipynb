{
 "cells": [
  {
   "cell_type": "markdown",
   "metadata": {},
   "source": [
    "# Derivativos de Ações e Commodities\n",
    "##  Precificação com o Método de Diferenças Finitas\n",
    "<sub>Uirá Caiado. 29 de Junho, 2016<sub>"
   ]
  },
  {
   "cell_type": "markdown",
   "metadata": {},
   "source": [
    "#### Resumo\n",
    "\n",
    "_Neste projeto vou implementar o método de diferenças finitas explícito para precificar diferentes derivativos. Como o preço de opções geralmente é descrito por equações diferenciais de difusão ou parabólicas, o método de diferenças finitas se mostra adequado, uma vez que é utilizado justamente para encontrar soluções numéricas para equações diferencias. Depois e implementar o modelo, vou compará-lo com os resultados obtidos pela solução analítica de cada instrumento._\n",
    "\n",
    "## 1. Introdução\n",
    "\n",
    "Nesta seção dou uma breve descrição sobre o método de diferenças finitas e declaro o problema que será abordado.\n",
    "\n",
    "### 1.1. O Método Utilizado\n",
    "\n",
    "Como colocado por Wilmott, encontrar soluções fechadas para precificação de muitos derivativos pode ser difícil, ou mesmo inviável. Como o preço destes instrumentos frequentemente são descritos por equações diferencias parciais, frequentemente utilizam-se métodos numéricos para encontrar uma solução, como [árvores binomiais](https://en.wikipedia.org/wiki/Binomial_options_pricing_model), simulação de [monte carlo](https://en.wikipedia.org/wiki/Monte_Carlo_method) e diferenças finitas.\n",
    "\n",
    "O método de diferenças finitas encontra o valor de um derivativo calculando-o em todo domínio (factivel) de preços do instrumento base, incluíndo a passagem de tempo até seu vencimento.  Assim, são similares às árvores binomiais. Porém, ao invéz e discretizar os preços do ativo e a passagem do tempo em uma estrutura de árvore, discretiza em um grid.\n",
    "\n",
    "Diferenças finitas também são muitos boas para lidar com problemas com poucas dimensões e equações diferenciais não lineares (o preço e tempo já são duas, e o Wilmott sugere até quatro). Para muitas dimensões, a implementação começa a ficar complicada e pouco eficiente, coisa que o Monte Carlo lida melhor. Porém, se há exercício antecipado e não linearidade, o método de diferenças finitas acaba se mostrando como solução mais viável.\n",
    "\n",
    "### 1.2. O Problema\n",
    "\n",
    "Considerando um ativo-objeto cuja dinâmica do preço satisfaz a seguinte EDE:\n",
    "\n",
    "$$\\frac{\\mathrm{d} S_t}{S_t}=\\mu\\cdot \\mathrm{d}t + \\sigma\\cdot \\mathrm{d}W_{t}$$\n",
    "\n",
    "Deseja-se calcular o preço justo de um derivativo um derivativo com característica europeia cujo payoff é descrito por uma função qualquer $V_T=V(T, S_T)$, onde $T$ é o vencimento do derivativo. $S_T$ é o preço do ativo-objeto em $T$ e é possível negociar qualquer quantidade dele em qualquer instante. Não há custo de transação (corretagem, emolumento, bid-ask spread, etc) e posições vendidas a descoberto no subjacente são permitidas, não havendo custos associados.\n",
    "\n",
    "Pede-se que se implemente o algoritmo de diferenças finitas explícito e se calcule o (a) preço justo, (b) o Delta e (c) o Gamma de cada instrumento abaixo. Os valores encontrados devem ser comparados com o resultado de suas expressões analítica. A simulação deve ser feita para os payoffs abaixo. $K$ é o Strike da opção.\n",
    "- $V(T, S_T)=ln(S_T)$\n",
    "- $V(T, S_T)=(ln(S_T))^2$\n",
    "- $V(T, S_T)=(S_T-K)^2$\n",
    "- $V(T, S_T)=\\mathbf{1}_{S_T > K}$\n",
    "- $V(T, S_T)=max(S_T-K, 0)$"
   ]
  },
  {
   "cell_type": "markdown",
   "metadata": {},
   "source": [
    "##  2. Diferenças Finitas\n",
    "\n",
    "Abaixo, apresentarei os elementos necessários para implementar o método diferenças finitas, sendo eles: a [diferenciação](https://pt.wikipedia.org/wiki/Diferenciação_numérica) das derivadas parciais necessárias usando o Grid; a discretização da condição final para cada derivativo; e suas respectivas condições de contorno (nos limites do grid).\n",
    "\n",
    "### 2.1. Diferenciação no Grid\n",
    "\n",
    "De acordo com Wilmott, o grid utilizado pelo método de diferenças finitas tem passos de tempo e de preço (ou log do preço) geralmente homogênios. Porém, **não há** restrição para a forma do Grid, desde que os ajustes necessários sejam feitos. Como exposto por \n",
    "\n",
    "Considerando que podemos discretizar $t$ como $t=T-k\\delta t$ e do $S$ como $S = i\\delta S$, onde $i$ e $k$ são seus respectivos passos no grid, podemos escrever o valor da opção em cada ponto do grig como sendo:\n",
    "\n",
    "$$V^{k}_{i} = ( i \\delta S, T-k \\delta t )$$\n",
    "\n",
    "Seguindo notas de aula, aplicando Taylor ao preço $V(T, S_T)$ de um derivativo genérico, posso escrever a seguinte equação diferencial parabólica:\n",
    "\n",
    "$$\\frac{\\partial V}{\\partial t} + a(S, t) \\cdot \\frac{\\partial V^2}{\\partial S^2} + b(S, t) \\cdot \\frac{\\partial V}{\\partial S} + c(S, t)\\cdot V = 0 $$\n",
    "\n",
    "Sendo que $\\frac{\\partial V}{\\partial t}$ também é chamado de theta ($\\theta$), $\\frac{\\partial V}{\\partial S}$ de delta ($\\Delta$) e $\\frac{\\partial V^2}{\\partial S^2}$ de gamma ($\\Gamma$). Como demostrado por Wilmott, como a definição da primeira derivada $V$ em relação a $t$ é dado por\n",
    "\n",
    "$$\\frac{\\partial V}{\\partial t} = \\underset{h \\, \\rightarrow \\, 0}{\\lim}\\, \\frac{V(S, t + h) - V(S, t)}{h}$$\n",
    "\n",
    "Então podemos aproximar $\\theta$ como sendo $\\frac{\\partial V}{\\partial t} (S, t) \\approx \\frac{V_{i}^{k} - V_{i}^{k+1} }{\\delta t}$. Note que $i$, que é relacionado ao passo do ativo, ficou fixo. *Também estou ignorando os erros de aproximação, como ignorarei em todas as outras diferenciações*.\n",
    "\n",
    "O mesmo raciocínio pode ser utilizado para aproximar o $\\Delta$. Porém, Wilmott ainda sugere que se utilize a [diferença centrada](http://math.stackexchange.com/questions/888259/can-someone-explain-in-general-what-a-central-difference-formula-is-and-what-it), que é dada por $\\frac{\\partial V}{\\partial S} (S, t) \\approx \\frac{V_{i+1}^{k} - V_{i-1}^{k} }{2 \\delta S}$. A discretização anterior também poderia ser utilizada, mas esta oferece um erro de aproximação menor. O único problema desta abordagem é que preciso saber os valores $S + \\delta S$ e $S - \\delta S$ e nas fronteiras do Grid não terei esta informação. Por tanto, nestes casos utilizarei a discretrização utilizando apenas um dos lados.\n",
    "\n",
    "Por fim, para achar o $\\gamma$, Wilmott subtrai o delta forward do delta backward e divide o resultado por $\\delta S$, chegando na aproximação  $\\frac{\\partial V^2}{\\partial S^2} (S, t) \\approx \\frac{V_{i+1}^{k} - 2 V_{i}^{k} + V_{i-1}^{k} }{\\delta S^2}$. Como demonstrado em notas de aula, todos estes resultados podem ser checados aplicando a expansão de Taylor.\n",
    "\n",
    "### 2.2. Condição Terminal e Payoffs\n",
    "\n",
    "O valor da opção no vencimento é simplemente seu payoff. Assim, não é necessário resolver nada para $T$, apenas para $S$. Usando a notação de diferenças finitas, os payoffs desejados ficam sendo da forma:\n",
    "\n",
    "- $V_{i}^{0}=ln(i\\delta S)$\n",
    "- $V_{i}^{0}=(ln(i\\delta S))^2$\n",
    "- $V_{i}^{0}=(i\\delta S-K)^2$\n",
    "- $V_{i}^{0}=\\mathbf{1}_{i\\delta S > K}$\n",
    "- $V_{i}^{0}=max(i\\delta S-K, 0)$\n",
    "\n",
    "Como o Wilmott explica, o método de diferenças finitas começa de trás para frente, será destes valores que a iteração começará, como se estivéssemos calculando o preço de um derivativo por árvores binomiais, também de trás para frente.\n",
    "\n",
    "### 2.3. Condições de Contorno\n",
    "\n",
    "Quando estivermos percorrendo o Grid, necessitaremos definir o preço do derivativo em seus extremos, quando $S=0$ e $S=I \\delta S$, onde $I$ é o ponto mais alto do Grid. Esta condição depende do instrumento que está sendo precificado. Para **todos** dos contratos, utilizaremos a seguinte condição para quando $S=0$:\n",
    "\n",
    "$$V^{k}_{0} = (1 - r \\delta t)V^{k-1}_{0}$$\n",
    "\n",
    "Para a condição de contorno superior, utilizaremos para a **maioria dos contratos**:\n",
    "\n",
    "$$V^{k}_{I} = 2V^{k}_{I-1} - V^{k}_{I-2}$$\n",
    "\n",
    "Esta condição é adequada pois, a medida que $S \\rightarrow \\infty$, o $\\Gamma$ da maioria dos contratos tende a zero. Porém, isso não é verdade para o contrato cujo payoff é descrito por $V_{i}^{0}=(i\\delta S-K)^2$. Diferenciando novamente o [delta](https://nbviewer.jupyter.org/github/ucaiado/Replicating_Strategy/blob/master/UiraCaiadoEx01.ipynb) deste contrato, chegamos que o gamma será dado por $2 \\cdot e^{(r + \\sigma^2)(T-t)}$. Neste caso,\n",
    "partindo da equação discretizada do $\\Gamma$ e resolvendo para $V^{k}_{I}$, tenho que:\n",
    "\n",
    "\\begin{equation}\n",
    "\\begin{aligned}\n",
    "\\Gamma &= \\frac{V_{I+1}^{k} - 2 V_{I}^{k} + V_{I-1}^{k} }{\\delta S^2}\\\\\n",
    "2 \\cdot e^{(r + \\sigma^2)(\\delta t)} &= \\frac{V_{I+1}^{k} - 2 V_{I}^{k} + V_{I-1}^{k} }{\\delta S^2}\\\\\n",
    "V_{I}^{k} &= 2 \\delta S^2 e^{(r + \\sigma^2)(\\delta t)} + 2V_{I-1}^{k} - V_{I-2}^{k}\\\\\n",
    "V_{I}^{k} &\\approx 2 \\delta S^2 + 2V_{I-1}^{k} - V_{I-2}^{k}\\\\\n",
    "\\end{aligned}\n",
    "\\end{equation}\n",
    "\n"
   ]
  },
  {
   "cell_type": "markdown",
   "metadata": {},
   "source": [
    "## 3. Implementando o Modelo\n",
    "\n",
    "Nesta seção vou decsrever o método de diferenças finitas explícito e implementar os códigos necessários.\n",
    "\n",
    "### 3.1. Método Explícito\n",
    "\n",
    "Seguindo notas de aula, substituindo as diferenciações encontradas na equação parabólica mencionada anteriormente e reescrevendo os outros termos com a notação de diferenças finitas, temos que:\n",
    "\n",
    "\\begin{equation}\n",
    "\\begin{aligned}\n",
    "\\frac{\\partial V}{\\partial t} + a(S, t) \\cdot \\frac{\\partial V^2}{\\partial S^2} + b(S, t) \\cdot \\frac{\\partial V}{\\partial S} + c(S, t)\\cdot V &= 0 \\\\\n",
    "\\frac{V_{i}^{k} - V_{i}^{k+1} }{\\delta t} + a_{i}^{k} \\cdot \\frac{V_{i+1}^{k} - 2 V_{i}^{k} + V_{i-1}^{k} }{\\delta S^2} + \\\\b_{i}^{k} \\cdot \\frac{V_{i+1}^{k} - V_{i-1}^{k} }{2 \\delta S} + c_{i}^{k}\\cdot V_{i}^{k} &= 0\n",
    "\\end{aligned}\n",
    "\\end{equation}\n",
    "\n",
    "Rearranjando equação acima para isolar $V_{i}^{k+1}$ e renomeando alguns termos, ficamos com:\n",
    "\n",
    "$$V_{i}^{k+1} = A_{i}^{k}V_{i-1}^{k} + \\left( 1 + B_{i}^{k} \\right)V_{i}^{k} + C_{i}^{k}V_{i+1}^{k}$$\n",
    "\n",
    "Onde:\n",
    "\n",
    "\\begin{equation}\n",
    "\\begin{aligned}\n",
    "A_{i}^{k} &= \\nu_1 a_{i}^{k} - 0.5\\nu_2 b_{i}^{k} \\\\\n",
    "B_{i}^{k} &= -2\\nu_1 a_{i}^{k} - \\delta t c_{i}^{k} \\\\\n",
    "C_{i}^{k} &= \\nu_1 a_{i}^{k} + 0.5\\nu_2 b_{i}^{k}\n",
    "\\end{aligned}\n",
    "\\end{equation}\n",
    "\n",
    "Sendo que $\\nu_1=\\frac{\\delta t}{\\delta S ^2}$ e $\\nu_2=\\frac{\\delta t}{\\delta S}$. A equação acima está definida apenas entre $i=1, ..., I-1$. OS pontos restantes necessários para discretização vem das condições de contorno. Como nós conhecemos o valor terminal em $V_{i}^{0}$, podemos calcular o valor de $V_{i}^{1}$ e assim por diante. Como o valor do instrumento em $k+1$ só depende dos valores dele em $k$, chamamos este método de **método explícito**.\n",
    "\n",
    "### 3.2. Outros Detalhes\n",
    "\n",
    "#### a. Estabilidade\n",
    "\n",
    "Para que a solução deste método seja estável, é necessário que satisfaça $\\delta t \\, \\leqslant \\frac{\\delta S^2}{2\\sigma^2 S^2}$ e $\\delta S \\leqslant \\frac{2a}{|b|}$. Vou utilizar a primeira delas explicitamente na implementação, porém vou fazer a seguinte transformação:\n",
    "\n",
    "$$\\delta t \\, \\leqslant \\frac{\\delta S^2}{2\\sigma^2 S^2} = \\frac{1}{\\sigma^2} \\left(\\frac{\\delta S}{S}\\right)^2 = \\frac{1}{\\sigma^2 I^2}$$\n",
    "\n",
    "Onde $I = \\delta  S \\times S$.\n",
    "\n",
    "#### b. Interpolação Bilinear\n",
    "\n",
    "Devido a discretização do modelo, pode ser que seja necessário obter um valor que esteja entre os nós do Grid. Nestes casos, adotarei uma interpolação de duas dimensões (Preço e tempo) chamada [interpolação bilinear](https://en.wikipedia.org/wiki/Bilinear_interpolation). Ela consiste em realizar uma interpolação linear primeiro em uma direção e depois na outra. Considerando um quadrante específico do Grid, em que há quatro preços de opção, basicamente se divide o quadrante em quatro (onde os pontos de divisão são os valores desejados) e se utiliza a área de cada um deles como peso para os valores das opções. Assim, terminamos com a seguinte fórmula:\n",
    "\n",
    "$$\\frac{\\sum_{i=1}^{4} A_i V_i}{\\sum_{i=1}^{4} A_i}$$\n",
    "\n",
    "Onde $A$ é a área dos retângulos e $V$ o preço da opção em cada canto do quadrante principal. Cada $A_i$ é oposto ao $V_i$ correspondente (o $A_2$ é oposto ao $V_2$, por exemplo)."
   ]
  },
  {
   "cell_type": "markdown",
   "metadata": {},
   "source": [
    "### 3.3. Criando o Grid\n",
    "\n",
    "Primeiro, vou definir as classes para a criação do Grid. Como quero acessar os valores posteriormente, vou manter todos em uma estrutura, ainda que este provavelmente não seja o método mais adequado pensando em velocidade."
   ]
  },
  {
   "cell_type": "code",
   "execution_count": 415,
   "metadata": {
    "collapsed": false
   },
   "outputs": [
    {
     "name": "stdout",
     "output_type": "stream",
     "text": [
      "       0     1     2     3     4     5     6     7     8     9\n",
      "0    0,0   0,1   0,2   0,3   0,4   0,5   0,6   0,7   0,8   0,9\n",
      "1    1,0   1,1   1,2   1,3   1,4   1,5   1,6   1,7   1,8   1,9\n",
      "2    2,0   2,1   2,2   2,3   2,4   2,5   2,6   2,7   2,8   2,9\n",
      "3    3,0   3,1   3,2   3,3   3,4   3,5   3,6   3,7   3,8   3,9\n",
      "4    4,0   4,1   4,2   4,3   4,4   4,5   4,6   4,7   4,8   4,9\n",
      "5    5,0   5,1   5,2   5,3   5,4   5,5   5,6   5,7   5,8   5,9\n",
      "6    6,0   6,1   6,2   6,3   6,4   6,5   6,6   6,7   6,8   6,9\n",
      "7    7,0   7,1   7,2   7,3   7,4   7,5   7,6   7,7   7,8   7,9\n",
      "8    8,0   8,1   8,2   8,3   8,4   8,5   8,6   8,7   8,8   8,9\n",
      "9    9,0   9,1   9,2   9,3   9,4   9,5   9,6   9,7   9,8   9,9\n",
      "10  10,0  10,1  10,2  10,3  10,4  10,5  10,6  10,7  10,8  10,9\n"
     ]
    }
   ],
   "source": [
    "import finite_difference; reload(finite_difference);\n",
    "x = finite_difference.Grid(f_vol=0.5,\n",
    "                           f_value=100.,\n",
    "                           f_time=1.,\n",
    "                           i_nas=10,\n",
    "                           i_nts=10)\n",
    "print x"
   ]
  },
  {
   "cell_type": "code",
   "execution_count": 416,
   "metadata": {
    "collapsed": false
   },
   "outputs": [
    {
     "name": "stdout",
     "output_type": "stream",
     "text": [
      "1000 loops, best of 3: 344 µs per loop\n"
     ]
    }
   ],
   "source": [
    "%timeit x = Grid(f_vol=0.2, f_value=100., f_time=1., i_nas=10)"
   ]
  },
  {
   "cell_type": "markdown",
   "metadata": {},
   "source": [
    "Como comentei, não é uma estrtutura eficiente. Demorou quase 5 segundos para criar uma estrtutura de 10.000 nós. Porém acredito que isso me ajudará adiante."
   ]
  },
  {
   "cell_type": "markdown",
   "metadata": {},
   "source": [
    "### 3.3. Precificando os instrumentos\n",
    "\n",
    "Seguindo implementação do livro, também há outra opção para se encontrar $V_{i}^{k+1}$. Substituindo a notação da fórmula de precificação e assumindo que possuimos os valores para $\\Delta$, $\\Gamma$ e $V_{i}^{k}$, podemos isolar o $\\theta$, ficando com\n",
    "\n",
    "\n",
    "\\begin{equation}\n",
    "\\begin{aligned}\n",
    "\\theta + a_{i}^{k} \\cdot \\Gamma + b_{i}^{k} \\cdot \\Delta + c_{i}^{k}\\cdot V_{i}^{k} &= 0\\\\\n",
    "-a_{i}^{k} \\cdot \\Gamma - b_{i}^{k} \\cdot \\Delta - c_{i}^{k}\\cdot V_{i}^{k} &= \\theta\n",
    "\\end{aligned}\n",
    "\\end{equation}\n",
    "\n",
    "Assim, para uma opção que não paga dividendos, que o ativo base segue um movimento brawniano geométrico, e esta sendo avaliado no mundo neutro a risco, temos que o parâmetro $c=-r$, $b=rS$ e $a=0.5 \\cdot \\sigma^2 S^2$. Assim, fico com o theta sendo da forma:\n",
    "\n",
    "$$\\theta = r V_{i}^{k} - rS_{i}^{k}\\Delta - 0.5\\sigma^2 S^2\\Gamma$$\n",
    "\n",
    "Então, o preço do derivativo em $k+1$ pode ser dado por:\n",
    "\n",
    "$$V_{i}^{k+1} = V_{i}^{k} - \\delta t \\theta$$\n",
    "\n",
    "Para comparar os resultados obtidos, também serão calculados os preços e as gregas de cada opção analiticamente, seguindo as equações de preficição demostradas em [trabalho](https://nbviewer.jupyter.org/github/ucaiado/Replicating_Strategy/blob/master/UiraCaiadoEx01.ipynb) anterior. Abaixo vou imprimir os resultados obtidos para uma Call Européia para comparação com exemplos do Wilmott."
   ]
  },
  {
   "cell_type": "code",
   "execution_count": 418,
   "metadata": {
    "collapsed": false
   },
   "outputs": [
    {
     "name": "stdout",
     "output_type": "stream",
     "text": [
      "Wall time: 582 ms\n"
     ]
    }
   ],
   "source": [
    "import finite_difference; reload(finite_difference);\n",
    "d_param = {\"f_St\": 100.,  # preco do ativo\n",
    "           \"f_sigma\": 0.2, # desvio padra do ativo objeto\n",
    "           \"f_time\": 1.,  # tempo para vencimento em anos\n",
    "           \"f_r\": 0.05,  # taxa de juros anual\n",
    "           \"i_nas\": 20,  # passos que o ativo sera discretizado\n",
    "           \"i_nts\": 10,  # passos que o tempo sera discretizado (opcional)\n",
    "           \"f_K\": 100.  # strike da opcao\n",
    "          }\n",
    "\n",
    "%time self = finite_difference.EuropianCall(**d_param)"
   ]
  },
  {
   "cell_type": "code",
   "execution_count": 419,
   "metadata": {
    "collapsed": false
   },
   "outputs": [
    {
     "data": {
      "text/html": [
       "<div>\n",
       "<table border=\"1\" class=\"dataframe\">\n",
       "  <thead>\n",
       "    <tr style=\"text-align: right;\">\n",
       "      <th></th>\n",
       "      <th>0.000</th>\n",
       "      <th>0.111</th>\n",
       "      <th>0.222</th>\n",
       "      <th>0.333</th>\n",
       "      <th>0.444</th>\n",
       "      <th>0.556</th>\n",
       "      <th>0.667</th>\n",
       "      <th>0.778</th>\n",
       "      <th>0.889</th>\n",
       "      <th>1.000</th>\n",
       "    </tr>\n",
       "  </thead>\n",
       "  <tbody>\n",
       "    <tr>\n",
       "      <th>60.0</th>\n",
       "      <td>0.0</td>\n",
       "      <td>0.000000</td>\n",
       "      <td>0.000000</td>\n",
       "      <td>0.000000</td>\n",
       "      <td>0.000000</td>\n",
       "      <td>0.001046</td>\n",
       "      <td>0.004769</td>\n",
       "      <td>0.012912</td>\n",
       "      <td>0.027040</td>\n",
       "      <td>0.048408</td>\n",
       "    </tr>\n",
       "    <tr>\n",
       "      <th>70.0</th>\n",
       "      <td>0.0</td>\n",
       "      <td>0.000000</td>\n",
       "      <td>0.000000</td>\n",
       "      <td>0.000000</td>\n",
       "      <td>0.010816</td>\n",
       "      <td>0.040306</td>\n",
       "      <td>0.092362</td>\n",
       "      <td>0.168004</td>\n",
       "      <td>0.266547</td>\n",
       "      <td>0.386414</td>\n",
       "    </tr>\n",
       "    <tr>\n",
       "      <th>80.0</th>\n",
       "      <td>0.0</td>\n",
       "      <td>0.000000</td>\n",
       "      <td>0.000000</td>\n",
       "      <td>0.084278</td>\n",
       "      <td>0.248619</td>\n",
       "      <td>0.475041</td>\n",
       "      <td>0.746832</td>\n",
       "      <td>1.051237</td>\n",
       "      <td>1.379044</td>\n",
       "      <td>1.723707</td>\n",
       "    </tr>\n",
       "    <tr>\n",
       "      <th>90.0</th>\n",
       "      <td>0.0</td>\n",
       "      <td>0.000000</td>\n",
       "      <td>0.512500</td>\n",
       "      <td>1.148000</td>\n",
       "      <td>1.807437</td>\n",
       "      <td>2.461115</td>\n",
       "      <td>3.100759</td>\n",
       "      <td>3.724696</td>\n",
       "      <td>4.333380</td>\n",
       "      <td>4.927851</td>\n",
       "    </tr>\n",
       "    <tr>\n",
       "      <th>100.0</th>\n",
       "      <td>0.0</td>\n",
       "      <td>2.500000</td>\n",
       "      <td>4.013889</td>\n",
       "      <td>5.200154</td>\n",
       "      <td>6.223712</td>\n",
       "      <td>7.149693</td>\n",
       "      <td>8.008182</td>\n",
       "      <td>8.816223</td>\n",
       "      <td>9.584443</td>\n",
       "      <td>10.320129</td>\n",
       "    </tr>\n",
       "    <tr>\n",
       "      <th>110.0</th>\n",
       "      <td>10.0</td>\n",
       "      <td>10.555556</td>\n",
       "      <td>11.571451</td>\n",
       "      <td>12.561620</td>\n",
       "      <td>13.500820</td>\n",
       "      <td>14.389205</td>\n",
       "      <td>15.235188</td>\n",
       "      <td>16.045095</td>\n",
       "      <td>16.824334</td>\n",
       "      <td>17.576942</td>\n",
       "    </tr>\n",
       "    <tr>\n",
       "      <th>120.0</th>\n",
       "      <td>20.0</td>\n",
       "      <td>20.555556</td>\n",
       "      <td>21.108025</td>\n",
       "      <td>21.790273</td>\n",
       "      <td>22.510062</td>\n",
       "      <td>23.243401</td>\n",
       "      <td>23.974649</td>\n",
       "      <td>24.698653</td>\n",
       "      <td>25.412183</td>\n",
       "      <td>26.114374</td>\n",
       "    </tr>\n",
       "    <tr>\n",
       "      <th>130.0</th>\n",
       "      <td>30.0</td>\n",
       "      <td>30.555556</td>\n",
       "      <td>31.108025</td>\n",
       "      <td>31.657425</td>\n",
       "      <td>32.248867</td>\n",
       "      <td>32.862026</td>\n",
       "      <td>33.491183</td>\n",
       "      <td>34.127231</td>\n",
       "      <td>34.766578</td>\n",
       "      <td>35.405282</td>\n",
       "    </tr>\n",
       "    <tr>\n",
       "      <th>140.0</th>\n",
       "      <td>40.0</td>\n",
       "      <td>40.555556</td>\n",
       "      <td>41.108025</td>\n",
       "      <td>41.657425</td>\n",
       "      <td>42.203772</td>\n",
       "      <td>42.764972</td>\n",
       "      <td>43.335178</td>\n",
       "      <td>43.915298</td>\n",
       "      <td>44.500544</td>\n",
       "      <td>45.090213</td>\n",
       "    </tr>\n",
       "  </tbody>\n",
       "</table>\n",
       "</div>"
      ],
      "text/plain": [
       "       0.000      0.111      0.222      0.333      0.444      0.556  \\\n",
       "60.0     0.0   0.000000   0.000000   0.000000   0.000000   0.001046   \n",
       "70.0     0.0   0.000000   0.000000   0.000000   0.010816   0.040306   \n",
       "80.0     0.0   0.000000   0.000000   0.084278   0.248619   0.475041   \n",
       "90.0     0.0   0.000000   0.512500   1.148000   1.807437   2.461115   \n",
       "100.0    0.0   2.500000   4.013889   5.200154   6.223712   7.149693   \n",
       "110.0   10.0  10.555556  11.571451  12.561620  13.500820  14.389205   \n",
       "120.0   20.0  20.555556  21.108025  21.790273  22.510062  23.243401   \n",
       "130.0   30.0  30.555556  31.108025  31.657425  32.248867  32.862026   \n",
       "140.0   40.0  40.555556  41.108025  41.657425  42.203772  42.764972   \n",
       "\n",
       "           0.667      0.778      0.889      1.000  \n",
       "60.0    0.004769   0.012912   0.027040   0.048408  \n",
       "70.0    0.092362   0.168004   0.266547   0.386414  \n",
       "80.0    0.746832   1.051237   1.379044   1.723707  \n",
       "90.0    3.100759   3.724696   4.333380   4.927851  \n",
       "100.0   8.008182   8.816223   9.584443  10.320129  \n",
       "110.0  15.235188  16.045095  16.824334  17.576942  \n",
       "120.0  23.974649  24.698653  25.412183  26.114374  \n",
       "130.0  33.491183  34.127231  34.766578  35.405282  \n",
       "140.0  43.335178  43.915298  44.500544  45.090213  "
      ]
     },
     "execution_count": 419,
     "metadata": {},
     "output_type": "execute_result"
    }
   ],
   "source": [
    "# imprime apenas a parte da matriz demonstrada no exemplo do livro, pag 1216, tabela 77.1\n",
    "df = self.df_opt_prices.copy()\n",
    "df.columns = [\"{:.3f}\".format(x) for x in df.columns]\n",
    "df.tail(15).head(9)"
   ]
  },
  {
   "cell_type": "markdown",
   "metadata": {},
   "source": [
    "*Note que começa a aparecer uma diferença em relação ao livro quando o ativo está valendo $R\\$ 110.00$  ou menos. Como o método utiliza os três nós subjacentes anteriores para calcular o valor do nó posterior, o nó $(\\,90.0 \\,; 0.111)$ não deveria apresentar valor algum de fato. Porém, no exemplo do Wilmott, apresentou.*"
   ]
  },
  {
   "cell_type": "markdown",
   "metadata": {},
   "source": [
    "## 4. Precificando Instrumentos\n",
    "\n",
    "Nesta seção vou precificar alguns instrumentos e comparar com suas soluções analíticas.\n",
    "\n",
    "### 4.1. Call Européia\n",
    "\n",
    "bla bla"
   ]
  },
  {
   "cell_type": "code",
   "execution_count": null,
   "metadata": {
    "collapsed": true
   },
   "outputs": [],
   "source": []
  },
  {
   "cell_type": "code",
   "execution_count": 402,
   "metadata": {
    "collapsed": false
   },
   "outputs": [],
   "source": [
    "d_rtn = {\"$V_t$\": [], \"$\\widetilde{V_t}$\": []}\n",
    "l_prices = np.arange(50., 151., 1.)\n",
    "for f_S in l_prices:\n",
    "    d_rtn[\"$V_t$\"].append(self.get_information(f_S, 0.5, 'price_anlt'))\n",
    "    d_rtn[\"$\\widetilde{V_t}$\"].append(self.get_information(f_S, 0.5, 'price'))\n",
    "    "
   ]
  },
  {
   "cell_type": "code",
   "execution_count": 403,
   "metadata": {
    "collapsed": false
   },
   "outputs": [
    {
     "data": {
      "text/plain": [
       "<matplotlib.axes._subplots.AxesSubplot at 0x12a68550>"
      ]
     },
     "execution_count": 403,
     "metadata": {},
     "output_type": "execute_result"
    },
    {
     "data": {
      "image/png": "[encoded data removed]",
      "text/plain": [
       "<matplotlib.figure.Figure at 0x1202d908>"
      ]
     },
     "metadata": {},
     "output_type": "display_data"
    }
   ],
   "source": [
    "df_plot =  pd.DataFrame(d_rtn, index=l_prices)\n",
    "df_plot.plot()"
   ]
  },
  {
   "cell_type": "markdown",
   "metadata": {},
   "source": [
    "### 4.2. Contrato Log"
   ]
  },
  {
   "cell_type": "code",
   "execution_count": null,
   "metadata": {
    "collapsed": true
   },
   "outputs": [],
   "source": []
  },
  {
   "cell_type": "code",
   "execution_count": null,
   "metadata": {
    "collapsed": true
   },
   "outputs": [],
   "source": []
  },
  {
   "cell_type": "code",
   "execution_count": null,
   "metadata": {
    "collapsed": true
   },
   "outputs": [],
   "source": []
  },
  {
   "cell_type": "code",
   "execution_count": null,
   "metadata": {
    "collapsed": true
   },
   "outputs": [],
   "source": []
  },
  {
   "cell_type": "code",
   "execution_count": null,
   "metadata": {
    "collapsed": true
   },
   "outputs": [],
   "source": []
  },
  {
   "cell_type": "code",
   "execution_count": null,
   "metadata": {
    "collapsed": true
   },
   "outputs": [],
   "source": []
  },
  {
   "cell_type": "markdown",
   "metadata": {},
   "source": [
    "## 5. Conclusão\n",
    "\n",
    "bla bla bla\n",
    "\n",
    "\n",
    "\n",
    "## 6. Últimas Considerações\n",
    "\n",
    "A estrutura ficou lenta. A decisão de usar classes ao invez de um array dificultou implementação e provavelmente tenha prejudicado a velocidade. O exemplo feito do livro não bateu. Porém, as visualizações indicam que a implementação está correta"
   ]
  },
  {
   "cell_type": "markdown",
   "metadata": {},
   "source": [
    "_Style notebook and change matplotlib defaults_"
   ]
  },
  {
   "cell_type": "code",
   "execution_count": 414,
   "metadata": {
    "collapsed": false
   },
   "outputs": [
    {
     "data": {
      "text/html": [
       "<style>\n",
       "    @font-face {\n",
       "        font-family: \"Computer Modern\";\n",
       "        src: url('http://9dbb143991406a7c655e-aa5fcb0a5a4ec34cff238a2d56ca4144.r56.cf5.rackcdn.com/cmunss.otf');\n",
       "    }\n",
       "    @font-face {\n",
       "        font-family: \"Computer Modern\";\n",
       "        font-weight: bold;\n",
       "        src: url('http://9dbb143991406a7c655e-aa5fcb0a5a4ec34cff238a2d56ca4144.r56.cf5.rackcdn.com/cmunsx.otf');\n",
       "    }\n",
       "    @font-face {\n",
       "        font-family: \"Computer Modern\";\n",
       "        font-style: oblique;\n",
       "        src: url('http://9dbb143991406a7c655e-aa5fcb0a5a4ec34cff238a2d56ca4144.r56.cf5.rackcdn.com/cmunsi.otf');\n",
       "    }\n",
       "    @font-face {\n",
       "        font-family: \"Computer Modern\";\n",
       "        font-weight: bold;\n",
       "        font-style: oblique;\n",
       "        src: url('http://9dbb143991406a7c655e-aa5fcb0a5a4ec34cff238a2d56ca4144.r56.cf5.rackcdn.com/cmunso.otf');\n",
       "    }\n",
       "    div.cell{\n",
       "        width:800px;\n",
       "        margin-left:16% !important;\n",
       "        margin-right:auto;\n",
       "    }\n",
       "    h1 {\n",
       "        font-family: Helvetica, serif;\n",
       "    }\n",
       "    h4{\n",
       "        margin-top:12px;\n",
       "        margin-bottom: 3px;\n",
       "       }\n",
       "    div.text_cell_render{\n",
       "        font-family: Computer Modern, \"Helvetica Neue\", Arial, Helvetica, Geneva, sans-serif;\n",
       "        line-height: 145%;\n",
       "        font-size: 130%;\n",
       "        width:800px;\n",
       "        margin-left:auto;\n",
       "        margin-right:auto;\n",
       "    }\n",
       "    .CodeMirror{\n",
       "            font-family: \"Source Code Pro\", source-code-pro,Consolas, monospace;\n",
       "    }\n",
       "    .prompt{\n",
       "        display: None;\n",
       "    }\n",
       "    .text_cell_render h5 {\n",
       "        font-weight: 300;\n",
       "        font-size: 22pt;\n",
       "        color: #4057A1;\n",
       "        font-style: italic;\n",
       "        margin-bottom: .5em;\n",
       "        margin-top: 0.5em;\n",
       "        display: block;\n",
       "    }\n",
       "\n",
       "    .warning{\n",
       "        color: rgb( 240, 20, 20 )\n",
       "        }\n",
       "</style>\n",
       "\n",
       "\n",
       "\n",
       "<style>\n",
       "    table {\n",
       "        overflow:hidden;\n",
       "        font-family: Computer Modern, \"Helvetica Neue\", Arial, Helvetica, Geneva, sans-serif;\n",
       "        font-size: 12px;\n",
       "        margin: 10px;\n",
       "        width: 480px;\n",
       "        text-align: left;\n",
       "        border-collapse: collapse;\n",
       "        border: 1px solid #d3d3d3;\n",
       "        -moz-border-radius:5px; FF1+;\n",
       "        -webkit-border-radius:5px; Saf3-4;\n",
       "        border-radius:5px;\n",
       "        -moz-box-shadow: 0 0 4px rgba(0, 0, 0, 0.01);\n",
       "    }\n",
       "    th\n",
       "    {\n",
       "        padding: 12px 17px 12px 17px;\n",
       "        font-weight: normal;\n",
       "        font-size: 14px;\n",
       "        border-bottom: 1px dashed #69c;\n",
       "    }\n",
       "\n",
       "    td\n",
       "    {\n",
       "        padding: 7px 17px 7px 17px;\n",
       "\n",
       "    }\n",
       "\n",
       "    tbody tr:hover th\n",
       "    {\n",
       "\n",
       "        background:  #E9E9E9;\n",
       "    }\n",
       "\n",
       "    tbody tr:hover td\n",
       "    {\n",
       "\n",
       "        background:  #E9E9E9;\n",
       "    }\n",
       "\n",
       "</style>\n",
       "\n",
       "<script>\n",
       "    MathJax.Hub.Config({\n",
       "                        TeX: {\n",
       "                           extensions: [\"AMSmath.js\"]\n",
       "                           },\n",
       "                tex2jax: {\n",
       "                    inlineMath: [ ['$','$'], [\"\\\\(\",\"\\\\)\"] ],\n",
       "                    displayMath: [ ['$$','$$'], [\"\\\\[\",\"\\\\]\"] ]\n",
       "                },\n",
       "                displayAlign: 'center', // Change this to 'center' to center equations.\n",
       "                \"HTML-CSS\": {\n",
       "                    styles: {'.MathJax_Display': {\"margin\": 4}}\n",
       "                }\n",
       "        });\n",
       "</script>\n"
      ],
      "text/plain": [
       "<IPython.core.display.HTML object>"
      ]
     },
     "execution_count": 414,
     "metadata": {},
     "output_type": "execute_result"
    }
   ],
   "source": [
    "#loading style sheet\n",
    "from IPython.core.display import HTML\n",
    "HTML(open('ipython_style.css').read())"
   ]
  },
  {
   "cell_type": "code",
   "execution_count": 400,
   "metadata": {
    "collapsed": true
   },
   "outputs": [],
   "source": [
    "#changing matplotlib defaults\n",
    "%matplotlib inline\n",
    "import seaborn as sns\n",
    "sns.set_palette(\"deep\", desat=.6)\n",
    "sns.set_context(rc={\"figure.figsize\": (8, 4)})\n",
    "sns.set_style(\"whitegrid\")\n",
    "sns.set_palette(sns.color_palette(\"Set2\", 10))"
   ]
  }
 ],
 "metadata": {
  "kernelspec": {
   "display_name": "Python 2",
   "language": "python",
   "name": "python2"
  },
  "language_info": {
   "codemirror_mode": {
    "name": "ipython",
    "version": 2
   },
   "file_extension": ".py",
   "mimetype": "text/x-python",
   "name": "python",
   "nbconvert_exporter": "python",
   "pygments_lexer": "ipython2",
   "version": "2.7.11"
  }
 },
 "nbformat": 4,
 "nbformat_minor": 0
}
